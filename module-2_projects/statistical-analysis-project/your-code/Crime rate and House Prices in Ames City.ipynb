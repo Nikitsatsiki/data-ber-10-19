{
 "cells": [
  {
   "cell_type": "markdown",
   "metadata": {},
   "source": [
    "# 1 Crime rate and House Prices in Ames City:\n",
    "In their paper \"Crime and Property Values: Evidence from the 1990s Crime Drop” Devin and Jaren Pope bring statistical evidence that crime drop in the 90's in the USA had a postive coraletion on the housing prices in the US. They claim that \"a drop in violent crime by 100 per 10,000 people is associated with a 5.5% increase in housing values.\"*\n",
    "In this notebook we will try and check of this claim holds for Ames's, Iowa real estate markt in the begining of the 21th centurey. In order to test this conjecture we picked a sample of 4 years out of 18. We used two databases: \n",
    "1)Ames real estate sell prices from kaggle: https://www.kaggle.com/c/house-prices-advanced-regression-techniques/overview\n",
    "2)The FBI's Uniform Crime Reporting Programm: https://www.fbi.gov/services/cjis/ucr/\n",
    "To put it to more percise words our null hypothesis is that for the years 2006 till 2010 as a whole for an annual drop of 100 cases of proprety crime for 10,000 residences, we will see increase of around 5.5%. Ergo:         \n",
    "$$H_0 : S(Amces) = 5.5\\%$$\n",
    "\n",
    "Method:\n",
    "We will used the our databaces to calculate the annual change in proprerty crime rates and in sales prices drawing the mean of of those years.\n",
    "As we know the STD of Pope's reachers (8) we can see if can calculate the z score of our result.   \n",
    "\n",
    "\n",
    "Work flow: \n",
    "\n",
    "1:first we lay the fundamntals  \n",
    "\n",
    "2.importaing databases and calculating the Δs.\n",
    "\n",
    "3.runing the numbers on the Δs. \n",
    "\n",
    "*Pope, Devin G., and Jaren C. Pope. “Crime and Property Values: Evidence from the 1990s Crime Drop.” Regional Science and Urban Economics 42, no. 1–2 (January 2012): 186."
   ]
  },
  {
   "cell_type": "markdown",
   "metadata": {},
   "source": [
    "## 1. laying down the fundmantals "
   ]
  },
  {
   "cell_type": "code",
   "execution_count": 321,
   "metadata": {},
   "outputs": [],
   "source": [
    "#Libraries Used\n",
    "import pandas as pd\n",
    "import numpy as np\n",
    "import seaborn as sns"
   ]
  },
  {
   "cell_type": "markdown",
   "metadata": {},
   "source": [
    "###  Basic formulas for Sample statistic\n",
    "We need some basic formulas to calculate the mean, the standart deviation and the standart score for samples that can take pandas Series   "
   ]
  },
  {
   "cell_type": "code",
   "execution_count": 322,
   "metadata": {},
   "outputs": [],
   "source": [
    "def mean_sample(ser):\n",
    "    sum_ser, counter = 0, 0\n",
    "    for i in list(ser):\n",
    "        counter+=1\n",
    "        sum_ser+=i\n",
    "    return round(sum_ser / (counter-1), 2)"
   ]
  },
  {
   "cell_type": "code",
   "execution_count": 323,
   "metadata": {},
   "outputs": [],
   "source": [
    "def std_sample(ser):\n",
    "    mean = mean_sample(ser)\n",
    "    sigma, counter = 0\n",
    "    for i in lst(ser):\n",
    "        counter+=1\n",
    "        sigma+=(i-mean)**2\n",
    "    return (sigma/ (counter-1))**0.5"
   ]
  },
  {
   "cell_type": "code",
   "execution_count": 324,
   "metadata": {},
   "outputs": [],
   "source": [
    "# p value\n",
    "def Sd_score_sample(ser, result):\n",
    "    mean = mean_sample(ser)\n",
    "    std = std_sample(ser)\n",
    "    return (result-mean)/std"
   ]
  },
  {
   "cell_type": "markdown",
   "metadata": {},
   "source": [
    "## 2. Importaing databases and calculating the Δs.\n",
    "### importing the dataframes\n",
    "notice: most of the cleaning and pre calculation were allready made"
   ]
  },
  {
   "cell_type": "code",
   "execution_count": 325,
   "metadata": {},
   "outputs": [],
   "source": [
    "df = pd.read_csv(\"Crime_stats_Ames_City.csv\")"
   ]
  },
  {
   "cell_type": "code",
   "execution_count": 326,
   "metadata": {},
   "outputs": [],
   "source": [
    "df_mean_by_Year= pd.read_csv(\"Mean_by_Year.csv\")"
   ]
  },
  {
   "cell_type": "markdown",
   "metadata": {},
   "source": [
    "### calculating the crime rate for the number of cases and population to number case for 10,000 people in a year"
   ]
  },
  {
   "cell_type": "code",
   "execution_count": 327,
   "metadata": {},
   "outputs": [],
   "source": [
    "df =df[[\"Year\",\"Population\",\"Property crime rate\",\"Burglary rate\",\"Larceny-theft rate\",\"Violent Crime rate\",\"Murder and nonnegligent manslaughter rate\",\"rape rate\",\"Aggravated assault rate\"]]"
   ]
  },
  {
   "cell_type": "code",
   "execution_count": 328,
   "metadata": {},
   "outputs": [],
   "source": [
    "to_div_by_10 = [\"Property crime rate\",\"Burglary rate\",\"Larceny-theft rate\",\"Violent Crime rate\",\"Murder and nonnegligent manslaughter rate\",\"rape rate\",\"Aggravated assault rate\"]\n",
    "for i in to_div_by_10:\n",
    "    df[i] =df[i]/10"
   ]
  },
  {
   "cell_type": "code",
   "execution_count": 329,
   "metadata": {},
   "outputs": [],
   "source": [
    "df.rename(columns ={\"Murder and nonnegligent manslaughter rate\":\"Murder rate\", \"rape rate\":\"Rape rate\"}, inplace=True)"
   ]
  },
  {
   "cell_type": "markdown",
   "metadata": {},
   "source": [
    "### calculating Δ on crime rates"
   ]
  },
  {
   "cell_type": "code",
   "execution_count": 330,
   "metadata": {},
   "outputs": [],
   "source": [
    "df = df.assign(Year_before = lambda x : x[\"Year\"] - 1)\n",
    "df_change = df[[\"Year\", \"Population\",\"Property crime rate\", \"Year_before\"]]\n",
    "df_change = df_change.merge(df_change, how = \"inner\", right_on=\"Year\", left_on=\"Year_before\")"
   ]
  },
  {
   "cell_type": "code",
   "execution_count": 331,
   "metadata": {},
   "outputs": [],
   "source": [
    "df_change = df_change.assign(Population_change= lambda x: x[\"Population_x\"] - x[\"Population_y\"])\n",
    "df_change = df_change.assign(Property_crime_rate_change= lambda x: x[\"Property crime rate_x\"] - x[\"Property crime rate_y\"])  \n",
    "df_change = df_change.drop([\"Year_y\", \"Population_y\", \"Property crime rate_y\", \"Year_before_y\", \"Year_before_x\"], axis=1)\n",
    "df_change.rename(columns ={\"Year_x\":\"Year\", \"Population_x\":\"Population\", \"Property crime rate_x\": \"Property crime rate\"}, inplace=True)"
   ]
  },
  {
   "cell_type": "markdown",
   "metadata": {},
   "source": [
    "### calculating Δ on sale prices"
   ]
  },
  {
   "cell_type": "code",
   "execution_count": 332,
   "metadata": {},
   "outputs": [],
   "source": [
    "df_mean_by_Year = df_mean_by_Year[[\"YrSold\", \"SalePrice\"]]\n",
    "df_mean_by_Year=df_mean_by_Year.assign(Year_before= lambda x : x[\"YrSold\"] - 1)"
   ]
  },
  {
   "cell_type": "code",
   "execution_count": 334,
   "metadata": {},
   "outputs": [],
   "source": [
    "df_mean_by_Year = df_mean_by_Year.merge(df_mean_by_Year, how = \"inner\", right_on=\"YrSold\", left_on=\"Year_before\").assign(avg_price_change=lambda x : x[\"SalePrice_x\"] - x[\"SalePrice_y\"]).drop(['Year_before_x', 'YrSold_y', \"Year_before_y\", \"SalePrice_y\" ], axis=1).rename(columns ={\"YrSold_x\":\"Year\", \"SalePrice_x\":\"SalePrice\"})\n"
   ]
  },
  {
   "cell_type": "markdown",
   "metadata": {},
   "source": [
    "### Merging the two data frames toghter and calculating the price change in % "
   ]
  },
  {
   "cell_type": "code",
   "execution_count": 336,
   "metadata": {},
   "outputs": [],
   "source": [
    "df_cal = df_2006_2007_change.merge(df_mean_by_Year,how = \"inner\", right_on=\"Year\", left_on=\"Year\" )"
   ]
  },
  {
   "cell_type": "code",
   "execution_count": 337,
   "metadata": {},
   "outputs": [],
   "source": [
    "df_cal = df_cal.assign(avg_price_change_pre= lambda x: x[\"avg_price_change\"] * 100 / x[\"SalePrice\"])"
   ]
  },
  {
   "cell_type": "code",
   "execution_count": 338,
   "metadata": {},
   "outputs": [
    {
     "data": {
      "text/html": [
       "<div>\n",
       "<style scoped>\n",
       "    .dataframe tbody tr th:only-of-type {\n",
       "        vertical-align: middle;\n",
       "    }\n",
       "\n",
       "    .dataframe tbody tr th {\n",
       "        vertical-align: top;\n",
       "    }\n",
       "\n",
       "    .dataframe thead th {\n",
       "        text-align: right;\n",
       "    }\n",
       "</style>\n",
       "<table border=\"1\" class=\"dataframe\">\n",
       "  <thead>\n",
       "    <tr style=\"text-align: right;\">\n",
       "      <th></th>\n",
       "      <th>Year</th>\n",
       "      <th>Population</th>\n",
       "      <th>Property crime rate</th>\n",
       "      <th>Population_change</th>\n",
       "      <th>Property_crime_rate_change</th>\n",
       "      <th>SalePrice</th>\n",
       "      <th>avg_price_change</th>\n",
       "      <th>avg_price_change_pre</th>\n",
       "    </tr>\n",
       "  </thead>\n",
       "  <tbody>\n",
       "    <tr>\n",
       "      <td>0</td>\n",
       "      <td>2007</td>\n",
       "      <td>51622</td>\n",
       "      <td>310.53</td>\n",
       "      <td>-919</td>\n",
       "      <td>31.70</td>\n",
       "      <td>186063.151976</td>\n",
       "      <td>4042.222489</td>\n",
       "      <td>2.172500</td>\n",
       "    </tr>\n",
       "    <tr>\n",
       "      <td>1</td>\n",
       "      <td>2008</td>\n",
       "      <td>55249</td>\n",
       "      <td>296.11</td>\n",
       "      <td>3627</td>\n",
       "      <td>-14.42</td>\n",
       "      <td>177227.602649</td>\n",
       "      <td>-8835.549327</td>\n",
       "      <td>-4.985425</td>\n",
       "    </tr>\n",
       "    <tr>\n",
       "      <td>2</td>\n",
       "      <td>2009</td>\n",
       "      <td>57173</td>\n",
       "      <td>282.13</td>\n",
       "      <td>1924</td>\n",
       "      <td>-13.98</td>\n",
       "      <td>179432.103550</td>\n",
       "      <td>2204.500901</td>\n",
       "      <td>1.228599</td>\n",
       "    </tr>\n",
       "    <tr>\n",
       "      <td>3</td>\n",
       "      <td>2010</td>\n",
       "      <td>58965</td>\n",
       "      <td>263.89</td>\n",
       "      <td>1792</td>\n",
       "      <td>-18.24</td>\n",
       "      <td>177109.208092</td>\n",
       "      <td>-2322.895458</td>\n",
       "      <td>-1.311561</td>\n",
       "    </tr>\n",
       "  </tbody>\n",
       "</table>\n",
       "</div>"
      ],
      "text/plain": [
       "   Year  Population  Property crime rate  Population_change  \\\n",
       "0  2007       51622               310.53               -919   \n",
       "1  2008       55249               296.11               3627   \n",
       "2  2009       57173               282.13               1924   \n",
       "3  2010       58965               263.89               1792   \n",
       "\n",
       "   Property_crime_rate_change      SalePrice  avg_price_change  \\\n",
       "0                       31.70  186063.151976       4042.222489   \n",
       "1                      -14.42  177227.602649      -8835.549327   \n",
       "2                      -13.98  179432.103550       2204.500901   \n",
       "3                      -18.24  177109.208092      -2322.895458   \n",
       "\n",
       "   avg_price_change_pre  \n",
       "0              2.172500  \n",
       "1             -4.985425  \n",
       "2              1.228599  \n",
       "3             -1.311561  "
      ]
     },
     "execution_count": 338,
     "metadata": {},
     "output_type": "execute_result"
    }
   ],
   "source": [
    "df_cal"
   ]
  },
  {
   "cell_type": "code",
   "execution_count": 348,
   "metadata": {},
   "outputs": [
    {
     "data": {
      "text/html": [
       "<div>\n",
       "<style scoped>\n",
       "    .dataframe tbody tr th:only-of-type {\n",
       "        vertical-align: middle;\n",
       "    }\n",
       "\n",
       "    .dataframe tbody tr th {\n",
       "        vertical-align: top;\n",
       "    }\n",
       "\n",
       "    .dataframe thead th {\n",
       "        text-align: right;\n",
       "    }\n",
       "</style>\n",
       "<table border=\"1\" class=\"dataframe\">\n",
       "  <thead>\n",
       "    <tr style=\"text-align: right;\">\n",
       "      <th></th>\n",
       "      <th>Year</th>\n",
       "      <th>Population</th>\n",
       "      <th>Property crime rate</th>\n",
       "      <th>Population_change</th>\n",
       "      <th>Property_crime_rate_change</th>\n",
       "      <th>SalePrice</th>\n",
       "      <th>avg_price_change</th>\n",
       "      <th>avg_price_change_pre</th>\n",
       "    </tr>\n",
       "  </thead>\n",
       "  <tbody>\n",
       "    <tr>\n",
       "      <td>count</td>\n",
       "      <td>4.000000</td>\n",
       "      <td>4.00000</td>\n",
       "      <td>4.000000</td>\n",
       "      <td>4.000000</td>\n",
       "      <td>4.000000</td>\n",
       "      <td>4.000000</td>\n",
       "      <td>4.000000</td>\n",
       "      <td>4.000000</td>\n",
       "    </tr>\n",
       "    <tr>\n",
       "      <td>mean</td>\n",
       "      <td>2008.500000</td>\n",
       "      <td>55752.25000</td>\n",
       "      <td>288.165000</td>\n",
       "      <td>1606.000000</td>\n",
       "      <td>-3.735000</td>\n",
       "      <td>179958.016567</td>\n",
       "      <td>-1227.930349</td>\n",
       "      <td>-0.723972</td>\n",
       "    </tr>\n",
       "    <tr>\n",
       "      <td>std</td>\n",
       "      <td>1.290994</td>\n",
       "      <td>3143.91045</td>\n",
       "      <td>19.908232</td>\n",
       "      <td>1879.342616</td>\n",
       "      <td>23.700658</td>\n",
       "      <td>4207.934281</td>\n",
       "      <td>5733.844269</td>\n",
       "      <td>3.199340</td>\n",
       "    </tr>\n",
       "    <tr>\n",
       "      <td>min</td>\n",
       "      <td>2007.000000</td>\n",
       "      <td>51622.00000</td>\n",
       "      <td>263.890000</td>\n",
       "      <td>-919.000000</td>\n",
       "      <td>-18.240000</td>\n",
       "      <td>177109.208092</td>\n",
       "      <td>-8835.549327</td>\n",
       "      <td>-4.985425</td>\n",
       "    </tr>\n",
       "    <tr>\n",
       "      <td>25%</td>\n",
       "      <td>2007.750000</td>\n",
       "      <td>54342.25000</td>\n",
       "      <td>277.570000</td>\n",
       "      <td>1114.250000</td>\n",
       "      <td>-15.375000</td>\n",
       "      <td>177198.004010</td>\n",
       "      <td>-3951.058925</td>\n",
       "      <td>-2.230027</td>\n",
       "    </tr>\n",
       "    <tr>\n",
       "      <td>50%</td>\n",
       "      <td>2008.500000</td>\n",
       "      <td>56211.00000</td>\n",
       "      <td>289.120000</td>\n",
       "      <td>1858.000000</td>\n",
       "      <td>-14.200000</td>\n",
       "      <td>178329.853100</td>\n",
       "      <td>-59.197278</td>\n",
       "      <td>-0.041481</td>\n",
       "    </tr>\n",
       "    <tr>\n",
       "      <td>75%</td>\n",
       "      <td>2009.250000</td>\n",
       "      <td>57621.00000</td>\n",
       "      <td>299.715000</td>\n",
       "      <td>2349.750000</td>\n",
       "      <td>-2.560000</td>\n",
       "      <td>181089.865657</td>\n",
       "      <td>2663.931298</td>\n",
       "      <td>1.464574</td>\n",
       "    </tr>\n",
       "    <tr>\n",
       "      <td>max</td>\n",
       "      <td>2010.000000</td>\n",
       "      <td>58965.00000</td>\n",
       "      <td>310.530000</td>\n",
       "      <td>3627.000000</td>\n",
       "      <td>31.700000</td>\n",
       "      <td>186063.151976</td>\n",
       "      <td>4042.222489</td>\n",
       "      <td>2.172500</td>\n",
       "    </tr>\n",
       "  </tbody>\n",
       "</table>\n",
       "</div>"
      ],
      "text/plain": [
       "              Year   Population  Property crime rate  Population_change  \\\n",
       "count     4.000000      4.00000             4.000000           4.000000   \n",
       "mean   2008.500000  55752.25000           288.165000        1606.000000   \n",
       "std       1.290994   3143.91045            19.908232        1879.342616   \n",
       "min    2007.000000  51622.00000           263.890000        -919.000000   \n",
       "25%    2007.750000  54342.25000           277.570000        1114.250000   \n",
       "50%    2008.500000  56211.00000           289.120000        1858.000000   \n",
       "75%    2009.250000  57621.00000           299.715000        2349.750000   \n",
       "max    2010.000000  58965.00000           310.530000        3627.000000   \n",
       "\n",
       "       Property_crime_rate_change      SalePrice  avg_price_change  \\\n",
       "count                    4.000000       4.000000          4.000000   \n",
       "mean                    -3.735000  179958.016567      -1227.930349   \n",
       "std                     23.700658    4207.934281       5733.844269   \n",
       "min                    -18.240000  177109.208092      -8835.549327   \n",
       "25%                    -15.375000  177198.004010      -3951.058925   \n",
       "50%                    -14.200000  178329.853100        -59.197278   \n",
       "75%                     -2.560000  181089.865657       2663.931298   \n",
       "max                     31.700000  186063.151976       4042.222489   \n",
       "\n",
       "       avg_price_change_pre  \n",
       "count              4.000000  \n",
       "mean              -0.723972  \n",
       "std                3.199340  \n",
       "min               -4.985425  \n",
       "25%               -2.230027  \n",
       "50%               -0.041481  \n",
       "75%                1.464574  \n",
       "max                2.172500  "
      ]
     },
     "execution_count": 348,
     "metadata": {},
     "output_type": "execute_result"
    }
   ],
   "source": [
    "# statisical data\n",
    "df_cal.describe()"
   ]
  },
  {
   "cell_type": "markdown",
   "metadata": {},
   "source": [
    "### Calculating the mean, std for the  sample years (2006-2010) "
   ]
  },
  {
   "cell_type": "code",
   "execution_count": 340,
   "metadata": {},
   "outputs": [
    {
     "data": {
      "text/plain": [
       "-4.98"
      ]
     },
     "execution_count": 340,
     "metadata": {},
     "output_type": "execute_result"
    }
   ],
   "source": [
    "## sample mean of the property crime rates\n",
    "mean_property_crime_rate_change = mean_sample(df_cal[\"Property_crime_rate_change\"])\n",
    "mean_property_crime_rate_change"
   ]
  },
  {
   "cell_type": "code",
   "execution_count": 341,
   "metadata": {},
   "outputs": [
    {
     "data": {
      "text/plain": [
       "-1637.24"
      ]
     },
     "execution_count": 341,
     "metadata": {},
     "output_type": "execute_result"
    }
   ],
   "source": [
    "## sample mean of the price change\n",
    "mean_price_change = mean_sample(df_cal[\"avg_price_change\"])\n",
    "mean_price_change"
   ]
  },
  {
   "cell_type": "code",
   "execution_count": 342,
   "metadata": {},
   "outputs": [
    {
     "data": {
      "text/plain": [
       "239944.02"
      ]
     },
     "execution_count": 342,
     "metadata": {},
     "output_type": "execute_result"
    }
   ],
   "source": [
    "## sample mean of the sale price\n",
    "mean_saleprice = mean_sample(df_cal[\"SalePrice\"])\n",
    "mean_saleprice"
   ]
  },
  {
   "cell_type": "markdown",
   "metadata": {},
   "source": [
    "### calculting the change in proprety value in the early 21 century in Ames vcity"
   ]
  },
  {
   "cell_type": "code",
   "execution_count": 343,
   "metadata": {},
   "outputs": [
    {
     "data": {
      "text/plain": [
       "-0.6823424897190604"
      ]
     },
     "execution_count": 343,
     "metadata": {},
     "output_type": "execute_result"
    }
   ],
   "source": [
    "mean_price_change/mean_saleprice * 100"
   ]
  },
  {
   "cell_type": "markdown",
   "metadata": {},
   "source": [
    "### result is 0.68% drop in prices \n",
    "#### the result seems to contradict assumtion that there should be an growth in avrage of the prices. but as we know the std of Pope's research (8) we can easly calculate the z score and see that it fall well within the accptable deviation."
   ]
  },
  {
   "cell_type": "code",
   "execution_count": 350,
   "metadata": {},
   "outputs": [],
   "source": [
    "z_score = (-0.6823424897190604 - 5.5) /8  "
   ]
  },
  {
   "cell_type": "code",
   "execution_count": 351,
   "metadata": {},
   "outputs": [
    {
     "data": {
      "text/plain": [
       "-0.7727928112148825"
      ]
     },
     "execution_count": 351,
     "metadata": {},
     "output_type": "execute_result"
    }
   ],
   "source": [
    "z_score "
   ]
  },
  {
   "cell_type": "markdown",
   "metadata": {},
   "source": [
    "### Hance based on the data we have we have failed to reject our null hypothesis"
   ]
  },
  {
   "cell_type": "code",
   "execution_count": null,
   "metadata": {},
   "outputs": [],
   "source": []
  }
 ],
 "metadata": {
  "kernelspec": {
   "display_name": "Python 3",
   "language": "python",
   "name": "python3"
  },
  "language_info": {
   "codemirror_mode": {
    "name": "ipython",
    "version": 3
   },
   "file_extension": ".py",
   "mimetype": "text/x-python",
   "name": "python",
   "nbconvert_exporter": "python",
   "pygments_lexer": "ipython3",
   "version": "3.7.4"
  }
 },
 "nbformat": 4,
 "nbformat_minor": 2
}
