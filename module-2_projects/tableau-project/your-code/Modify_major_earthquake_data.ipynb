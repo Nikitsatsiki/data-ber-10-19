{
 "cells": [
  {
   "cell_type": "code",
   "execution_count": 2,
   "metadata": {},
   "outputs": [],
   "source": [
    "import pandas as pd\n",
    "import numpy as np\n",
    "import datetime"
   ]
  },
  {
   "cell_type": "code",
   "execution_count": 3,
   "metadata": {},
   "outputs": [
    {
     "data": {
      "text/html": [
       "<div>\n",
       "<style scoped>\n",
       "    .dataframe tbody tr th:only-of-type {\n",
       "        vertical-align: middle;\n",
       "    }\n",
       "\n",
       "    .dataframe tbody tr th {\n",
       "        vertical-align: top;\n",
       "    }\n",
       "\n",
       "    .dataframe thead th {\n",
       "        text-align: right;\n",
       "    }\n",
       "</style>\n",
       "<table border=\"1\" class=\"dataframe\">\n",
       "  <thead>\n",
       "    <tr style=\"text-align: right;\">\n",
       "      <th></th>\n",
       "      <th>Year</th>\n",
       "      <th>Month</th>\n",
       "      <th>Date</th>\n",
       "      <th>Hours</th>\n",
       "      <th>Minutes</th>\n",
       "      <th>LATATITUDE (N)</th>\n",
       "      <th>LONGITUDE  (E)</th>\n",
       "      <th>MAGNITUDE (Richter)</th>\n",
       "    </tr>\n",
       "  </thead>\n",
       "  <tbody>\n",
       "    <tr>\n",
       "      <td>0</td>\n",
       "      <td>1901</td>\n",
       "      <td>12</td>\n",
       "      <td>24</td>\n",
       "      <td>23</td>\n",
       "      <td>18</td>\n",
       "      <td>37.2</td>\n",
       "      <td>22.2</td>\n",
       "      <td>5.8</td>\n",
       "    </tr>\n",
       "    <tr>\n",
       "      <td>1</td>\n",
       "      <td>1901</td>\n",
       "      <td>9</td>\n",
       "      <td>12</td>\n",
       "      <td>6</td>\n",
       "      <td>15</td>\n",
       "      <td>39.0</td>\n",
       "      <td>22.2</td>\n",
       "      <td>5.6</td>\n",
       "    </tr>\n",
       "    <tr>\n",
       "      <td>2</td>\n",
       "      <td>1901</td>\n",
       "      <td>10</td>\n",
       "      <td>25</td>\n",
       "      <td>16</td>\n",
       "      <td>18</td>\n",
       "      <td>37.0</td>\n",
       "      <td>22.2</td>\n",
       "      <td>5.4</td>\n",
       "    </tr>\n",
       "    <tr>\n",
       "      <td>3</td>\n",
       "      <td>1902</td>\n",
       "      <td>7</td>\n",
       "      <td>5</td>\n",
       "      <td>14</td>\n",
       "      <td>56</td>\n",
       "      <td>40.8</td>\n",
       "      <td>23.2</td>\n",
       "      <td>6.6</td>\n",
       "    </tr>\n",
       "    <tr>\n",
       "      <td>4</td>\n",
       "      <td>1902</td>\n",
       "      <td>4</td>\n",
       "      <td>11</td>\n",
       "      <td>18</td>\n",
       "      <td>35</td>\n",
       "      <td>38.5</td>\n",
       "      <td>23.5</td>\n",
       "      <td>5.8</td>\n",
       "    </tr>\n",
       "  </tbody>\n",
       "</table>\n",
       "</div>"
      ],
      "text/plain": [
       "   Year  Month  Date  Hours  Minutes  LATATITUDE (N)  LONGITUDE  (E)  \\\n",
       "0  1901     12    24     23       18            37.2            22.2   \n",
       "1  1901      9    12      6       15            39.0            22.2   \n",
       "2  1901     10    25     16       18            37.0            22.2   \n",
       "3  1902      7     5     14       56            40.8            23.2   \n",
       "4  1902      4    11     18       35            38.5            23.5   \n",
       "\n",
       "   MAGNITUDE (Richter)  \n",
       "0                  5.8  \n",
       "1                  5.6  \n",
       "2                  5.4  \n",
       "3                  6.6  \n",
       "4                  5.8  "
      ]
     },
     "execution_count": 3,
     "metadata": {},
     "output_type": "execute_result"
    }
   ],
   "source": [
    "eq_major=pd.read_csv(\"Major EarthQuakes in Greece.csv\")\n",
    "eq_major.head()"
   ]
  },
  {
   "cell_type": "code",
   "execution_count": 4,
   "metadata": {},
   "outputs": [],
   "source": [
    "eq_major_date=eq_major.copy()"
   ]
  },
  {
   "cell_type": "code",
   "execution_count": 5,
   "metadata": {},
   "outputs": [],
   "source": [
    "eq_major_date.rename({'Date':'Day'}, axis=1, inplace=True)\n",
    "eq_major_date['Date']=pd.to_datetime(eq_major_date[['Year','Month','Day']])"
   ]
  },
  {
   "cell_type": "code",
   "execution_count": 6,
   "metadata": {},
   "outputs": [],
   "source": [
    "eq_major_date['Date_Time']=pd.to_datetime(eq_major_date[['Day','Month','Year','Hours','Minutes']])\n",
    "eq_major_date['Time']=eq_major_date['Date_Time'].dt.time"
   ]
  },
  {
   "cell_type": "code",
   "execution_count": 7,
   "metadata": {},
   "outputs": [
    {
     "data": {
      "text/html": [
       "<div>\n",
       "<style scoped>\n",
       "    .dataframe tbody tr th:only-of-type {\n",
       "        vertical-align: middle;\n",
       "    }\n",
       "\n",
       "    .dataframe tbody tr th {\n",
       "        vertical-align: top;\n",
       "    }\n",
       "\n",
       "    .dataframe thead th {\n",
       "        text-align: right;\n",
       "    }\n",
       "</style>\n",
       "<table border=\"1\" class=\"dataframe\">\n",
       "  <thead>\n",
       "    <tr style=\"text-align: right;\">\n",
       "      <th></th>\n",
       "      <th>Year</th>\n",
       "      <th>Month</th>\n",
       "      <th>Day</th>\n",
       "      <th>Hours</th>\n",
       "      <th>Minutes</th>\n",
       "      <th>LATATITUDE (N)</th>\n",
       "      <th>LONGITUDE  (E)</th>\n",
       "      <th>MAGNITUDE (Richter)</th>\n",
       "      <th>Date</th>\n",
       "      <th>Date_Time</th>\n",
       "      <th>Time</th>\n",
       "    </tr>\n",
       "  </thead>\n",
       "  <tbody>\n",
       "    <tr>\n",
       "      <td>0</td>\n",
       "      <td>1901</td>\n",
       "      <td>12</td>\n",
       "      <td>24</td>\n",
       "      <td>23</td>\n",
       "      <td>18</td>\n",
       "      <td>37.20</td>\n",
       "      <td>22.20</td>\n",
       "      <td>5.8</td>\n",
       "      <td>1901-12-24</td>\n",
       "      <td>1901-12-24 23:18:00</td>\n",
       "      <td>23:18:00</td>\n",
       "    </tr>\n",
       "    <tr>\n",
       "      <td>1</td>\n",
       "      <td>1901</td>\n",
       "      <td>9</td>\n",
       "      <td>12</td>\n",
       "      <td>6</td>\n",
       "      <td>15</td>\n",
       "      <td>39.00</td>\n",
       "      <td>22.20</td>\n",
       "      <td>5.6</td>\n",
       "      <td>1901-09-12</td>\n",
       "      <td>1901-09-12 06:15:00</td>\n",
       "      <td>06:15:00</td>\n",
       "    </tr>\n",
       "    <tr>\n",
       "      <td>2</td>\n",
       "      <td>1901</td>\n",
       "      <td>10</td>\n",
       "      <td>25</td>\n",
       "      <td>16</td>\n",
       "      <td>18</td>\n",
       "      <td>37.00</td>\n",
       "      <td>22.20</td>\n",
       "      <td>5.4</td>\n",
       "      <td>1901-10-25</td>\n",
       "      <td>1901-10-25 16:18:00</td>\n",
       "      <td>16:18:00</td>\n",
       "    </tr>\n",
       "    <tr>\n",
       "      <td>3</td>\n",
       "      <td>1902</td>\n",
       "      <td>7</td>\n",
       "      <td>5</td>\n",
       "      <td>14</td>\n",
       "      <td>56</td>\n",
       "      <td>40.80</td>\n",
       "      <td>23.20</td>\n",
       "      <td>6.6</td>\n",
       "      <td>1902-07-05</td>\n",
       "      <td>1902-07-05 14:56:00</td>\n",
       "      <td>14:56:00</td>\n",
       "    </tr>\n",
       "    <tr>\n",
       "      <td>4</td>\n",
       "      <td>1902</td>\n",
       "      <td>4</td>\n",
       "      <td>11</td>\n",
       "      <td>18</td>\n",
       "      <td>35</td>\n",
       "      <td>38.50</td>\n",
       "      <td>23.50</td>\n",
       "      <td>5.8</td>\n",
       "      <td>1902-04-11</td>\n",
       "      <td>1902-04-11 18:35:00</td>\n",
       "      <td>18:35:00</td>\n",
       "    </tr>\n",
       "    <tr>\n",
       "      <td>...</td>\n",
       "      <td>...</td>\n",
       "      <td>...</td>\n",
       "      <td>...</td>\n",
       "      <td>...</td>\n",
       "      <td>...</td>\n",
       "      <td>...</td>\n",
       "      <td>...</td>\n",
       "      <td>...</td>\n",
       "      <td>...</td>\n",
       "      <td>...</td>\n",
       "      <td>...</td>\n",
       "    </tr>\n",
       "    <tr>\n",
       "      <td>1168</td>\n",
       "      <td>2017</td>\n",
       "      <td>5</td>\n",
       "      <td>17</td>\n",
       "      <td>11</td>\n",
       "      <td>30</td>\n",
       "      <td>36.03</td>\n",
       "      <td>27.49</td>\n",
       "      <td>5.1</td>\n",
       "      <td>2017-05-17</td>\n",
       "      <td>2017-05-17 11:30:00</td>\n",
       "      <td>11:30:00</td>\n",
       "    </tr>\n",
       "    <tr>\n",
       "      <td>1169</td>\n",
       "      <td>2017</td>\n",
       "      <td>8</td>\n",
       "      <td>8</td>\n",
       "      <td>7</td>\n",
       "      <td>42</td>\n",
       "      <td>37.03</td>\n",
       "      <td>27.61</td>\n",
       "      <td>5.1</td>\n",
       "      <td>2017-08-08</td>\n",
       "      <td>2017-08-08 07:42:00</td>\n",
       "      <td>07:42:00</td>\n",
       "    </tr>\n",
       "    <tr>\n",
       "      <td>1170</td>\n",
       "      <td>2017</td>\n",
       "      <td>9</td>\n",
       "      <td>1</td>\n",
       "      <td>16</td>\n",
       "      <td>48</td>\n",
       "      <td>36.00</td>\n",
       "      <td>28.00</td>\n",
       "      <td>5.1</td>\n",
       "      <td>2017-09-01</td>\n",
       "      <td>2017-09-01 16:48:00</td>\n",
       "      <td>16:48:00</td>\n",
       "    </tr>\n",
       "    <tr>\n",
       "      <td>1171</td>\n",
       "      <td>2017</td>\n",
       "      <td>2</td>\n",
       "      <td>6</td>\n",
       "      <td>3</td>\n",
       "      <td>51</td>\n",
       "      <td>39.51</td>\n",
       "      <td>26.10</td>\n",
       "      <td>5.0</td>\n",
       "      <td>2017-02-06</td>\n",
       "      <td>2017-02-06 03:51:00</td>\n",
       "      <td>03:51:00</td>\n",
       "    </tr>\n",
       "    <tr>\n",
       "      <td>1172</td>\n",
       "      <td>2017</td>\n",
       "      <td>10</td>\n",
       "      <td>11</td>\n",
       "      <td>22</td>\n",
       "      <td>49</td>\n",
       "      <td>39.11</td>\n",
       "      <td>24.23</td>\n",
       "      <td>5.0</td>\n",
       "      <td>2017-10-11</td>\n",
       "      <td>2017-10-11 22:49:00</td>\n",
       "      <td>22:49:00</td>\n",
       "    </tr>\n",
       "  </tbody>\n",
       "</table>\n",
       "<p>1173 rows × 11 columns</p>\n",
       "</div>"
      ],
      "text/plain": [
       "      Year  Month  Day  Hours  Minutes  LATATITUDE (N)  LONGITUDE  (E)  \\\n",
       "0     1901     12   24     23       18           37.20           22.20   \n",
       "1     1901      9   12      6       15           39.00           22.20   \n",
       "2     1901     10   25     16       18           37.00           22.20   \n",
       "3     1902      7    5     14       56           40.80           23.20   \n",
       "4     1902      4   11     18       35           38.50           23.50   \n",
       "...    ...    ...  ...    ...      ...             ...             ...   \n",
       "1168  2017      5   17     11       30           36.03           27.49   \n",
       "1169  2017      8    8      7       42           37.03           27.61   \n",
       "1170  2017      9    1     16       48           36.00           28.00   \n",
       "1171  2017      2    6      3       51           39.51           26.10   \n",
       "1172  2017     10   11     22       49           39.11           24.23   \n",
       "\n",
       "      MAGNITUDE (Richter)       Date           Date_Time      Time  \n",
       "0                     5.8 1901-12-24 1901-12-24 23:18:00  23:18:00  \n",
       "1                     5.6 1901-09-12 1901-09-12 06:15:00  06:15:00  \n",
       "2                     5.4 1901-10-25 1901-10-25 16:18:00  16:18:00  \n",
       "3                     6.6 1902-07-05 1902-07-05 14:56:00  14:56:00  \n",
       "4                     5.8 1902-04-11 1902-04-11 18:35:00  18:35:00  \n",
       "...                   ...        ...                 ...       ...  \n",
       "1168                  5.1 2017-05-17 2017-05-17 11:30:00  11:30:00  \n",
       "1169                  5.1 2017-08-08 2017-08-08 07:42:00  07:42:00  \n",
       "1170                  5.1 2017-09-01 2017-09-01 16:48:00  16:48:00  \n",
       "1171                  5.0 2017-02-06 2017-02-06 03:51:00  03:51:00  \n",
       "1172                  5.0 2017-10-11 2017-10-11 22:49:00  22:49:00  \n",
       "\n",
       "[1173 rows x 11 columns]"
      ]
     },
     "execution_count": 7,
     "metadata": {},
     "output_type": "execute_result"
    }
   ],
   "source": [
    "eq_major_date"
   ]
  },
  {
   "cell_type": "code",
   "execution_count": 9,
   "metadata": {},
   "outputs": [
    {
     "data": {
      "text/plain": [
       "1953    59\n",
       "1948    28\n",
       "1957    25\n",
       "1954    25\n",
       "1959    23\n",
       "        ..\n",
       "1974     2\n",
       "1913     2\n",
       "1991     2\n",
       "1971     1\n",
       "1907     1\n",
       "Name: Year, Length: 117, dtype: int64"
      ]
     },
     "execution_count": 9,
     "metadata": {},
     "output_type": "execute_result"
    }
   ],
   "source": [
    "eq_major_date['Year'].value_counts()"
   ]
  },
  {
   "cell_type": "code",
   "execution_count": 10,
   "metadata": {},
   "outputs": [
    {
     "data": {
      "text/plain": [
       "12"
      ]
     },
     "execution_count": 10,
     "metadata": {},
     "output_type": "execute_result"
    }
   ],
   "source": [
    "len(eq_major_date['Month'].value_counts())"
   ]
  },
  {
   "cell_type": "code",
   "execution_count": 11,
   "metadata": {},
   "outputs": [
    {
     "data": {
      "text/plain": [
       "31"
      ]
     },
     "execution_count": 11,
     "metadata": {},
     "output_type": "execute_result"
    }
   ],
   "source": [
    "len(eq_major_date['Day'].value_counts())"
   ]
  },
  {
   "cell_type": "code",
   "execution_count": 12,
   "metadata": {},
   "outputs": [
    {
     "data": {
      "text/plain": [
       "24"
      ]
     },
     "execution_count": 12,
     "metadata": {},
     "output_type": "execute_result"
    }
   ],
   "source": [
    "len(eq_major_date['Hours'].value_counts())"
   ]
  },
  {
   "cell_type": "code",
   "execution_count": 13,
   "metadata": {},
   "outputs": [
    {
     "data": {
      "text/plain": [
       "60"
      ]
     },
     "execution_count": 13,
     "metadata": {},
     "output_type": "execute_result"
    }
   ],
   "source": [
    "len(eq_major_date['Minutes'].value_counts())"
   ]
  },
  {
   "cell_type": "code",
   "execution_count": 14,
   "metadata": {},
   "outputs": [
    {
     "data": {
      "text/plain": [
       "5.0    228\n",
       "5.1    176\n",
       "5.2    151\n",
       "5.3     98\n",
       "5.4     95\n",
       "5.5     93\n",
       "5.6     60\n",
       "5.7     49\n",
       "5.8     45\n",
       "6.0     32\n",
       "6.1     29\n",
       "6.2     19\n",
       "5.9     17\n",
       "6.4     11\n",
       "6.5     11\n",
       "6.3     10\n",
       "7.0     10\n",
       "6.6     10\n",
       "6.7      6\n",
       "6.8      5\n",
       "7.1      5\n",
       "7.4      3\n",
       "7.3      3\n",
       "6.9      3\n",
       "7.2      2\n",
       "7.8      1\n",
       "8.0      1\n",
       "Name: MAGNITUDE (Richter), dtype: int64"
      ]
     },
     "execution_count": 14,
     "metadata": {},
     "output_type": "execute_result"
    }
   ],
   "source": [
    "eq_major_date['MAGNITUDE (Richter)'].value_counts()"
   ]
  },
  {
   "cell_type": "code",
   "execution_count": 15,
   "metadata": {},
   "outputs": [],
   "source": [
    "#could produce another df with those vaule ocouts things to do a heatmap and show, how often every magnitude occurs zb"
   ]
  },
  {
   "cell_type": "code",
   "execution_count": 16,
   "metadata": {},
   "outputs": [
    {
     "data": {
      "text/plain": [
       "1173"
      ]
     },
     "execution_count": 16,
     "metadata": {},
     "output_type": "execute_result"
    }
   ],
   "source": [
    "eq_major_date['Date_Time'].value_counts().sum()"
   ]
  },
  {
   "cell_type": "code",
   "execution_count": 17,
   "metadata": {},
   "outputs": [
    {
     "data": {
      "text/plain": [
       "1173"
      ]
     },
     "execution_count": 17,
     "metadata": {},
     "output_type": "execute_result"
    }
   ],
   "source": [
    "eq_major_date.shape[0]"
   ]
  },
  {
   "cell_type": "code",
   "execution_count": 18,
   "metadata": {},
   "outputs": [],
   "source": [
    "#whoop whoop no duplicates, so i use it as index"
   ]
  }
 ],
 "metadata": {
  "kernelspec": {
   "display_name": "Python 3",
   "language": "python",
   "name": "python3"
  },
  "language_info": {
   "codemirror_mode": {
    "name": "ipython",
    "version": 3
   },
   "file_extension": ".py",
   "mimetype": "text/x-python",
   "name": "python",
   "nbconvert_exporter": "python",
   "pygments_lexer": "ipython3",
   "version": "3.7.4"
  }
 },
 "nbformat": 4,
 "nbformat_minor": 2
}
